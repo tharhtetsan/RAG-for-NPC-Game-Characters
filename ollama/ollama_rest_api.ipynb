{
 "cells": [
  {
   "cell_type": "code",
   "execution_count": 5,
   "metadata": {},
   "outputs": [
    {
     "name": "stdout",
     "output_type": "stream",
     "text": [
      "Collecting ollama\n",
      "  Downloading ollama-0.3.3-py3-none-any.whl.metadata (3.8 kB)\n",
      "Requirement already satisfied: httpx<0.28.0,>=0.27.0 in /opt/anaconda3/envs/ths/lib/python3.12/site-packages (from ollama) (0.27.2)\n",
      "Requirement already satisfied: anyio in /opt/anaconda3/envs/ths/lib/python3.12/site-packages (from httpx<0.28.0,>=0.27.0->ollama) (4.6.2.post1)\n",
      "Requirement already satisfied: certifi in /opt/anaconda3/envs/ths/lib/python3.12/site-packages (from httpx<0.28.0,>=0.27.0->ollama) (2024.8.30)\n",
      "Requirement already satisfied: httpcore==1.* in /opt/anaconda3/envs/ths/lib/python3.12/site-packages (from httpx<0.28.0,>=0.27.0->ollama) (1.0.6)\n",
      "Requirement already satisfied: idna in /opt/anaconda3/envs/ths/lib/python3.12/site-packages (from httpx<0.28.0,>=0.27.0->ollama) (3.10)\n",
      "Requirement already satisfied: sniffio in /opt/anaconda3/envs/ths/lib/python3.12/site-packages (from httpx<0.28.0,>=0.27.0->ollama) (1.3.1)\n",
      "Requirement already satisfied: h11<0.15,>=0.13 in /opt/anaconda3/envs/ths/lib/python3.12/site-packages (from httpcore==1.*->httpx<0.28.0,>=0.27.0->ollama) (0.14.0)\n",
      "Downloading ollama-0.3.3-py3-none-any.whl (10 kB)\n",
      "Installing collected packages: ollama\n",
      "Successfully installed ollama-0.3.3\n"
     ]
    }
   ],
   "source": [
    "!pip install ollama"
   ]
  },
  {
   "cell_type": "code",
   "execution_count": 1,
   "metadata": {},
   "outputs": [],
   "source": [
    "import requests\n",
    "import json"
   ]
  },
  {
   "cell_type": "code",
   "execution_count": 9,
   "metadata": {},
   "outputs": [
    {
     "name": "stdout",
     "output_type": "stream",
     "text": [
      "Both TensorFlow and PyTorch are popular deep learning frameworks, each with their own strengths and weaknesses. The choice between them ultimately depends on your specific needs, experience, and preferences.\n",
      "\n",
      "Here's a brief comparison:\n",
      "\n",
      "**TensorFlow**\n",
      "\n",
      "1. **Maturity**: TensorFlow is an older framework (2015) and has been widely adopted in industry and academia.\n",
      "2. **Performance**: TensorFlow is generally considered to be more efficient and scalable than PyTorch, especially for large-scale deep learning models.\n",
      "3. **Ease of use**: TensorFlow has a steeper learning curve due to its more verbose API, but it's also more feature-rich and provides more pre-built tools.\n",
      "4. **Community**: The TensorFlow community is vast and active, with many resources available.\n",
      "\n",
      "**PyTorch**\n",
      "\n",
      "1. **Dynamic computation graph**: PyTorch uses a dynamic computation graph, which can be beneficial for rapid prototyping and development.\n",
      "2. **Auto differentiation**: PyTorch's auto-differentiation feature makes it easier to implement complex optimization algorithms.\n",
      "3. **Easier to learn**: PyTorch is often considered more beginner-friendly due to its simpler API and dynamic nature.\n",
      "4. **Rapid prototyping**: PyTorch is ideal for rapid prototyping and development, thanks to its ease of use and flexibility.\n",
      "\n",
      "**When to choose each**\n",
      "\n",
      "1. **TensorFlow**:\n",
      "\t* Large-scale deep learning projects\n",
      "\t* Complex models with many dependencies\n",
      "\t* Industry or enterprise applications\n",
      "2. **PyTorch**:\n",
      "\t* Rapid prototyping and development\n",
      "\t* Small to medium-sized projects\n",
      "\t* Research and academic environments\n",
      "\n",
      "Ultimately, the choice between TensorFlow and PyTorch depends on your specific needs and preferences. If you're new to deep learning, PyTorch might be a better starting point due to its ease of use and flexibility. However, if you're working on large-scale projects or need more advanced features, TensorFlow might be a better choice.\n",
      "\n",
      "**Code examples**\n",
      "\n",
      "Here's a simple example of a neural network using both frameworks:\n",
      "\n",
      "TensorFlow:\n",
      "```python\n",
      "import tensorflow as tf\n",
      "\n",
      "# Define the model\n",
      "model = tf.keras.models.Sequential([\n",
      "    tf.keras.layers.Dense(64, activation='relu', input_shape=(784,)),\n",
      "    tf.keras.layers.Dense(10, activation='softmax')\n",
      "])\n",
      "\n",
      "# Compile and train the model\n",
      "model.compile(optimizer='adam', loss='sparse_categorical_crossentropy')\n",
      "model.fit(X_train, y_train, epochs=10)\n",
      "```\n",
      "\n",
      "PyTorch:\n",
      "```python\n",
      "import torch\n",
      "import torch.nn as nn\n",
      "\n",
      "# Define the model\n",
      "class Net(nn.Module):\n",
      "    def __init__(self):\n",
      "        super(Net, self).__init__()\n",
      "        self.fc1 = nn.Linear(784, 64)\n",
      "        self.fc2 = nn.Linear(64, 10)\n",
      "\n",
      "    def forward(self, x):\n",
      "        return torch.relu(self.fc1(x)).torch.softmax(self.fc2(x))\n",
      "\n",
      "# Initialize the model and optimizer\n",
      "model = Net()\n",
      "optimizer = torch.optim.Adam(model.parameters(), lr=0.001)\n",
      "\n",
      "# Train the model\n",
      "for epoch in range(10):\n",
      "    optimizer.zero_grad()\n",
      "    loss = (model(X_train) - y_train).pow(2).mean()\n",
      "    loss.backward()\n",
      "    optimizer.step()\n",
      "```\n",
      "\n",
      "Note that these examples are simplified and don't include all the features of each framework.\n"
     ]
    }
   ],
   "source": [
    "import ollama\n",
    "response = ollama.chat(model='llama3.2:latest', messages=[\n",
    "  {\n",
    "    'role': 'user',\n",
    "    'content': 'Tensorflow or Pytorch? which one is better?',\n",
    "  },\n",
    "])\n",
    "print(response['message']['content'])"
   ]
  },
  {
   "cell_type": "code",
   "execution_count": null,
   "metadata": {},
   "outputs": [],
   "source": []
  }
 ],
 "metadata": {
  "kernelspec": {
   "display_name": "ths",
   "language": "python",
   "name": "python3"
  },
  "language_info": {
   "codemirror_mode": {
    "name": "ipython",
    "version": 3
   },
   "file_extension": ".py",
   "mimetype": "text/x-python",
   "name": "python",
   "nbconvert_exporter": "python",
   "pygments_lexer": "ipython3",
   "version": "3.12.0"
  }
 },
 "nbformat": 4,
 "nbformat_minor": 2
}
