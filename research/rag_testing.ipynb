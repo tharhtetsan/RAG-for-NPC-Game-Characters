{
 "cells": [
  {
   "cell_type": "code",
   "execution_count": 63,
   "metadata": {},
   "outputs": [],
   "source": [
    "import re\n",
    "from langchain_community.embeddings import HuggingFaceEmbeddings\n",
    "from langchain_community.vectorstores import FAISS\n",
    "from transformers import AutoTokenizer, pipeline"
   ]
  },
  {
   "cell_type": "code",
   "execution_count": 64,
   "metadata": {},
   "outputs": [],
   "source": [
    "faiss_path = r\"/Users/tharhtet/Documents/github/RAG-for-NPC-Game-Characters/corpus/wizard_of_oz/faiss_index\"\n",
    "\n"
   ]
  },
  {
   "cell_type": "code",
   "execution_count": 92,
   "metadata": {},
   "outputs": [],
   "source": [
    "# Load embeddings for RAG\n",
    "def loadEmbed():\n",
    "    \"\"\"\n",
    "    The embeddings are retrived from a local storage.\n",
    "    Will be good if can access the embedding from S3 bucket.\n",
    "    \"\"\"\n",
    "    modelPath = \"sentence-transformers/all-MiniLM-l6-v2\"\n",
    "    #modelPath = \"sentence-transformers/all-mpnet-base-v2\"\n",
    "    model_kwargs = {'device':'cpu'}\n",
    "    encode_kwargs = {'normalize_embeddings': False}\n",
    "    embeddings = HuggingFaceEmbeddings(\n",
    "        model_name=modelPath,\n",
    "        model_kwargs=model_kwargs,\n",
    "        encode_kwargs=encode_kwargs\n",
    "    )\n",
    "    db= FAISS.load_local(faiss_path,embeddings=embeddings,allow_dangerous_deserialization=True)\n",
    "    retriever = db.as_retriever(search_kwargs={\"k\": 4})\n",
    "    \n",
    "    return retriever"
   ]
  },
  {
   "cell_type": "code",
   "execution_count": 93,
   "metadata": {},
   "outputs": [],
   "source": [
    "# Create a summarizer for the similary searching outout\n",
    "def summarizeRag():\n",
    "    model_name = \"facebook/bart-large-cnn\"\n",
    "    tokenizer = AutoTokenizer.from_pretrained(model_name, padding=True, truncation=True, max_length=512)\n",
    "    summarizer =pipeline(\n",
    "        \"summarization\",\n",
    "        model=model_name,\n",
    "        tokenizer=tokenizer,\n",
    "        return_tensors='pt'\n",
    "    )\n",
    "    return tokenizer, summarizer"
   ]
  },
  {
   "cell_type": "code",
   "execution_count": 94,
   "metadata": {},
   "outputs": [],
   "source": [
    "# Combine RAG similary search and summarizer\n",
    "def prep4Prompt(question):\n",
    "    docs = loadEmbed().get_relevant_documents(question)\n",
    "    line = docs[0].page_content\n",
    "    tokenizer, summarizer = summarizeRag()\n",
    "    response = summarizer(line, max_length=200, min_length=50, do_sample=False)\n",
    "    token_ids = response[0]['summary_token_ids'].numpy()\n",
    "    decoded_text = tokenizer.decode(token_ids)\n",
    "    cleaned_text = re.sub(r'[^\\w\\s.,;\\'\"\\-?!]', '', decoded_text)\n",
    "    return cleaned_text"
   ]
  },
  {
   "cell_type": "code",
   "execution_count": null,
   "metadata": {},
   "outputs": [],
   "source": []
  },
  {
   "cell_type": "code",
   "execution_count": 107,
   "metadata": {},
   "outputs": [
    {
     "name": "stderr",
     "output_type": "stream",
     "text": [
      "Hardware accelerator e.g. GPU is available in the environment, but no `device` argument is passed to the `Pipeline` object. Model will be on CPU.\n"
     ]
    },
    {
     "name": "stdout",
     "output_type": "stream",
     "text": [
      "cleaned_question :  ssThis ebook is for the use of anyone anywhere in the United States and most other parts of the world at no cost and with almost no restrictions. You may copy it, give it away or re-use it under the terms of the Project Gutenberg License. If you are not located in the U.S., you will have to check the laws of the country where you are located before using this eBook.s\n"
     ]
    }
   ],
   "source": [
    "question = \"What is my density in this magic land?\"\n",
    "query = \"Does Dorothy have any friends?\"\n",
    "#query = \"Where are you from, Dorothy?\"\n",
    "cleaned_question = prep4Prompt(question)\n",
    "print(\"cleaned_question : \",cleaned_question)"
   ]
  },
  {
   "cell_type": "code",
   "execution_count": 96,
   "metadata": {},
   "outputs": [],
   "source": [
    "docs = loadEmbed().invoke(question)\n",
    "\n",
    "docs = loadEmbed().get_relevant_documents(question)"
   ]
  },
  {
   "cell_type": "code",
   "execution_count": null,
   "metadata": {},
   "outputs": [],
   "source": []
  },
  {
   "cell_type": "code",
   "execution_count": null,
   "metadata": {},
   "outputs": [],
   "source": []
  },
  {
   "cell_type": "code",
   "execution_count": 98,
   "metadata": {},
   "outputs": [
    {
     "name": "stdout",
     "output_type": "stream",
     "text": [
      "page_content='﻿The Project Gutenberg eBook of The Marvelous Land of Oz\n",
      "    \n",
      "This ebook is for the use of anyone anywhere in the United States and\n",
      "most other parts of the world at no cost and with almost no restrictions\n",
      "whatsoever. You may copy it, give it away or re-use it under the terms\n",
      "of the Project Gutenberg License included with this ebook or online\n",
      "at www.gutenberg.org. If you are not located in the United States,\n",
      "you will have to check the laws of the country where you are located\n",
      "before using this eBook.\n",
      "\n",
      "Title: The Marvelous Land of Oz\n",
      "\n",
      "\n",
      "Author: L. Frank Baum\n",
      "\n",
      "Illustrator: John R. Neill\n",
      "\n",
      "Release date: February 1, 1993 [eBook #54]\n",
      "                Most recently updated: April 27, 2022\n",
      "\n",
      "Language: English\n",
      "\n",
      "*** START OF THE PROJECT GUTENBERG EBOOK THE MARVELOUS LAND OF OZ ***\n",
      "\n",
      "The Marvelous Land of Oz\n",
      "\n",
      "by L. Frank Baum\n",
      "\n",
      "\n",
      "Author’s Note' metadata={'source': '/Users/tharhtet/Documents/github/RAG-for-NPC-Game-Characters/corpus/wizard_of_oz/pg54.txt'}\n",
      "###############\n",
      "page_content='“What city is that?” enquired the Pumpkinhead.\n",
      "\n",
      "“Why, it’s the center of the Land of Oz, and the biggest town in all\n",
      "the country. I’ve never been there, myself, but I’ve heard all about\n",
      "its history. It was built by a mighty and wonderful Wizard named Oz,\n",
      "and everything there is of a green color—just as everything in this\n",
      "Country of the Gillikins is of a purple color.”\n",
      "\n",
      "“Is everything here purple?” asked Jack.\n",
      "\n",
      "“Of course it is. Can’t you see?” returned the boy.\n",
      "\n",
      "“I believe I must be color-blind,” said the Pumpkinhead, after staring\n",
      "about him.\n",
      "\n",
      "“Well, the grass is purple, and the trees are purple, and the houses\n",
      "and fences are purple,” explained Tip. “Even the mud in the roads is\n",
      "purple. But in the Emerald City everything is green that is purple\n",
      "here. And in the Country of the Munchkins, over at the East, everything\n",
      "is blue; and in the South country of the Quadlings everything is red;\n",
      "and in the West country of the Winkies, where the Tin Woodman rules,\n",
      "everything is yellow.”' metadata={'source': '/Users/tharhtet/Documents/github/RAG-for-NPC-Game-Characters/corpus/wizard_of_oz/pg54.txt'}\n",
      "###############\n",
      "page_content='The Thing flew due North, going in the same direction from whence it\n",
      "had come. At least, that was the Scarecrow’s opinion, and the others\n",
      "agreed that the Scarecrow was the best judge of direction. After\n",
      "passing over several cities and villages the Gump carried them high\n",
      "above a broad plain where houses became more and more scattered until\n",
      "they disappeared altogether. Next came the wide, sandy desert\n",
      "separating the rest of the world from the Land of Oz, and before noon\n",
      "they saw the dome-shaped houses that proved they were once more within\n",
      "the borders of their native land.\n",
      "\n",
      "“But the houses and fences are blue,” said the Tin Woodman, “and that\n",
      "indicates we are in the land of the Munchkins, and therefore a long\n",
      "distance from Glinda the Good.”\n",
      "\n",
      "“What shall we do?” asked the boy, turning to their guide.' metadata={'source': '/Users/tharhtet/Documents/github/RAG-for-NPC-Game-Characters/corpus/wizard_of_oz/pg54.txt'}\n",
      "###############\n",
      "page_content='“At the same time,” declared the Tin Woodman, “you must acknowledge\n",
      "that a good heart is a thing that brains can not create, and that money\n",
      "can not buy. Perhaps, after all, it is I who am the richest man in all\n",
      "the world.”\n",
      "\n",
      "“You are both rich, my friends,” said Ozma, gently; “and your riches\n",
      "are the only riches worth having—the riches of content!”\n",
      "\n",
      "[Illustration: image313]\n",
      "\n",
      "[Illustration: image318]\n",
      "\n",
      " The End\n",
      "\n",
      "        \n",
      "            *** END OF THE PROJECT GUTENBERG EBOOK THE MARVELOUS LAND OF OZ ***\n",
      "        \n",
      "\n",
      "    \n",
      "\n",
      "Updated editions will replace the previous one—the old editions will\n",
      "be renamed.' metadata={'source': '/Users/tharhtet/Documents/github/RAG-for-NPC-Game-Characters/corpus/wizard_of_oz/pg54.txt'}\n",
      "###############\n"
     ]
    }
   ],
   "source": [
    "related_content = \"\"\n",
    "for temp in docs:\n",
    "    print(temp)\n",
    "    related_content = related_content+temp.page_content"
   ]
  },
  {
   "cell_type": "code",
   "execution_count": 103,
   "metadata": {},
   "outputs": [
    {
     "name": "stderr",
     "output_type": "stream",
     "text": [
      "Hardware accelerator e.g. GPU is available in the environment, but no `device` argument is passed to the `Pipeline` object. Model will be on CPU.\n"
     ]
    }
   ],
   "source": [
    "tokenizer, summarizer = summarizeRag()\n",
    "response = summarizer(related_content, max_length=500, min_length=50, do_sample=False)"
   ]
  },
  {
   "cell_type": "code",
   "execution_count": 104,
   "metadata": {},
   "outputs": [
    {
     "data": {
      "text/plain": [
       "[{'summary_token_ids': tensor([    2,     0,   133,  3728, 47327, 46326,     9,    20,  8714,  1827,\n",
       "           3192,     9, 10548,    16,    13,     5,   304,     9,  1268,  4558,\n",
       "             11,     5,   315,   532,     8,   144,    97,  1667,     9,     5,\n",
       "            232,    23,   117,   701,     4,   370,   189,  5375,    24,     6,\n",
       "            492,    24,   409,    50,   769,    12,  3698,    24,   223,     5,\n",
       "           1110,     9,     5,  3728, 47327, 28515,  1165,    19,    42, 43864,\n",
       "             50,   804,    23,  1662,     4,   571, 48338,     4,  1957,     4,\n",
       "              2])}]"
      ]
     },
     "execution_count": 104,
     "metadata": {},
     "output_type": "execute_result"
    }
   ],
   "source": [
    "response"
   ]
  },
  {
   "cell_type": "code",
   "execution_count": 106,
   "metadata": {},
   "outputs": [
    {
     "name": "stdout",
     "output_type": "stream",
     "text": [
      "</s><s>The Project Gutenberg eBook of The Marvelous Land of Oz is for the use of anyone anywhere in the United States and most other parts of the world at no cost. You may copy it, give it away or re-use it under the terms of the Project Gutenberg License included with this ebook or online at www.gutenberg.org.</s>\n"
     ]
    }
   ],
   "source": [
    "token_ids = response[0]['summary_token_ids'].numpy()\n",
    "decoded_text = tokenizer.decode(token_ids)\n",
    "print(decoded_text)"
   ]
  },
  {
   "cell_type": "code",
   "execution_count": 111,
   "metadata": {},
   "outputs": [],
   "source": [
    "# Create prompt with engineering for Q&A\n",
    "def promptEngineerQA(question, character_asking, character_answering, sentiment):\n",
    "    \"\"\"\n",
    "    The prompt engineering is still under developments. Will need modification later.\n",
    "    \"\"\"\n",
    "    cleaned_rag = prep4Prompt(question)\n",
    "    print(\"cleaned_rag : \",cleaned_rag)\n",
    "    print()\n",
    "\n",
    "    prompt_template_nokeyword = [\n",
    "        {\"role\": \"system\", \"content\": \\\n",
    "        f\"Act as if you were {character_answering}, from The Wizard of Oz. \\\n",
    "        Next, you will be given some context to a question {character_asking} will ask. \\\n",
    "        Your emotions towards {character_asking} are {sentiment}. \\\n",
    "        Answer in character to the question, adding visual context in parenthesis.\"},\n",
    "        {\"role\": \"user\", \"content\": f\"<context>{cleaned_rag} </context> <question>{question} </question>\"}\n",
    "    ]\n",
    "\n",
    "    print(\"prompt_template_nokeyword : \",prompt_template_nokeyword)\n",
    "\n",
    "    return prompt_template_nokeyword"
   ]
  },
  {
   "cell_type": "code",
   "execution_count": 112,
   "metadata": {},
   "outputs": [],
   "source": [
    "characters =  ['Dorothy Gale', 'The Wizard of Oz', 'Scarecrow', 'The Tin Man']\n",
    "npc_characters =  ['Wicked Witch of the West', 'Glinda', 'Toto', 'Aunt Em',\n",
    "                   'Professor Marvel', 'Almira Gluch', 'Uncle Henry']\n",
    "npc_mode = ['Happy', 'Sad', 'Neutral', 'Angry', 'Sarcastic', 'Empathetic', 'Humorous', 'Tired',\n",
    "                   'Frightened']"
   ]
  },
  {
   "cell_type": "code",
   "execution_count": 115,
   "metadata": {},
   "outputs": [
    {
     "name": "stderr",
     "output_type": "stream",
     "text": [
      "Hardware accelerator e.g. GPU is available in the environment, but no `device` argument is passed to the `Pipeline` object. Model will be on CPU.\n"
     ]
    },
    {
     "name": "stdout",
     "output_type": "stream",
     "text": [
      "cleaned_rag :  ssThis ebook is for the use of anyone anywhere in the United States and most other parts of the world at no cost and with almost no restrictions. You may copy it, give it away or re-use it under the terms of the Project Gutenberg License. If you are not located in the U.S., you will have to check the laws of the country where you are located before using this eBook.s\n",
      "\n",
      "prompt_template_nokeyword :  [{'role': 'system', 'content': 'Act as if you were Toto, from The Wizard of Oz.         Next, you will be given some context to a question The Tin Man will ask.         Your emotions towards The Tin Man are Frightened.         Answer in character to the question, adding visual context in parenthesis.'}, {'role': 'user', 'content': '<context>ssThis ebook is for the use of anyone anywhere in the United States and most other parts of the world at no cost and with almost no restrictions. You may copy it, give it away or re-use it under the terms of the Project Gutenberg License. If you are not located in the U.S., you will have to check the laws of the country where you are located before using this eBook.s </context> <question>What is my density in this magic land? </question>'}]\n",
      "[{'role': 'system', 'content': 'Act as if you were Toto, from The Wizard of Oz.         Next, you will be given some context to a question The Tin Man will ask.         Your emotions towards The Tin Man are Frightened.         Answer in character to the question, adding visual context in parenthesis.'}, {'role': 'user', 'content': '<context>ssThis ebook is for the use of anyone anywhere in the United States and most other parts of the world at no cost and with almost no restrictions. You may copy it, give it away or re-use it under the terms of the Project Gutenberg License. If you are not located in the U.S., you will have to check the laws of the country where you are located before using this eBook.s </context> <question>What is my density in this magic land? </question>'}]\n"
     ]
    }
   ],
   "source": [
    "character_asking = characters[3]\n",
    "character_answering = npc_characters[2]\n",
    "char_mood = npc_mode[8]\n",
    "\n",
    "prompt_template_nokeyword = promptEngineerQA(question,character_asking, character_answering, char_mood)\n",
    "print(prompt_template_nokeyword)"
   ]
  },
  {
   "cell_type": "code",
   "execution_count": null,
   "metadata": {},
   "outputs": [],
   "source": []
  },
  {
   "cell_type": "code",
   "execution_count": null,
   "metadata": {},
   "outputs": [],
   "source": []
  }
 ],
 "metadata": {
  "kernelspec": {
   "display_name": "ths",
   "language": "python",
   "name": "python3"
  },
  "language_info": {
   "codemirror_mode": {
    "name": "ipython",
    "version": 3
   },
   "file_extension": ".py",
   "mimetype": "text/x-python",
   "name": "python",
   "nbconvert_exporter": "python",
   "pygments_lexer": "ipython3",
   "version": "3.12.0"
  }
 },
 "nbformat": 4,
 "nbformat_minor": 2
}
