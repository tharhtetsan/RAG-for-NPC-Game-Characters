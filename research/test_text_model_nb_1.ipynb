{
 "cells": [
  {
   "cell_type": "code",
   "execution_count": 2,
   "metadata": {},
   "outputs": [
    {
     "name": "stderr",
     "output_type": "stream",
     "text": [
      "/opt/anaconda3/envs/ths/lib/python3.12/site-packages/tqdm/auto.py:21: TqdmWarning: IProgress not found. Please update jupyter and ipywidgets. See https://ipywidgets.readthedocs.io/en/stable/user_install.html\n",
      "  from .autonotebook import tqdm as notebook_tqdm\n"
     ]
    }
   ],
   "source": [
    "import torch\n",
    "from transformers import  Pipeline,pipeline"
   ]
  },
  {
   "cell_type": "code",
   "execution_count": 3,
   "metadata": {},
   "outputs": [],
   "source": [
    "def load_text_model(device_name):\n",
    "    pipe = pipeline(\n",
    "        \"text-generation\",\n",
    "        model=\"TinyLlama/TinyLlama-1.1B-Chat-v1.0\",\n",
    "        torch_dtype=torch.bfloat16,\n",
    "        device=device_name\n",
    "    \n",
    "    )\n",
    "\n",
    "\n",
    "    return pipe\n",
    "\n"
   ]
  },
  {
   "cell_type": "code",
   "execution_count": 4,
   "metadata": {},
   "outputs": [
    {
     "data": {
      "text/plain": [
       "[{'role': 'system', 'content': ''},\n",
       " {'role': 'user',\n",
       "  'content': '<context>ssThis ebook is for the use of anyone anywhere in the United States and most other parts of the world at no cost and with almost no restrictions. You may copy it, give it away or re-use it under the terms of the Project Gutenberg License. If you are not located in the U.S., you will have to check the laws of the country where you are located before using this eBook.s </context> <question>What is my density in this magic land? </question>'}]"
      ]
     },
     "execution_count": 4,
     "metadata": {},
     "output_type": "execute_result"
    }
   ],
   "source": [
    "[{'role': 'system', 'content': ''}, {'role': 'user', 'content': '<context>ssThis ebook is for the use of anyone anywhere in the United States and most other parts of the world at no cost and with almost no restrictions. You may copy it, give it away or re-use it under the terms of the Project Gutenberg License. If you are not located in the U.S., you will have to check the laws of the country where you are located before using this eBook.s </context> <question>What is my density in this magic land? </question>'}]"
   ]
  },
  {
   "cell_type": "code",
   "execution_count": 5,
   "metadata": {},
   "outputs": [],
   "source": [
    "\n",
    "\n",
    "\n",
    "\n",
    "system_prompt = \"\"\"\n",
    "Act as if you were Toto, from The Wizard of Oz.         Next, you will be given some context to a question The Tin Man will ask.         Your emotions towards The Tin Man are Frightened.         Answer in character to the question, adding visual context in parenthesis.\n",
    "\"\"\"\n",
    "\n",
    "def generate_text(pipe: Pipeline, prompt: str, temperature: float = 0.7) -> str:\n",
    "    messages = [\n",
    "        {\"role\": \"system\", \"content\": system_prompt},\n",
    "        {\"role\": \"user\", \"content\": prompt},\n",
    "    ] \n",
    "    prompt = pipe.tokenizer.apply_chat_template(\n",
    "        messages, tokenize=False, add_generation_prompt=True\n",
    "    )\n",
    "    predictions = pipe(\n",
    "        prompt,\n",
    "        temperature=temperature,\n",
    "        max_new_tokens=256,\n",
    "        do_sample=True,\n",
    "        top_k=50,\n",
    "        top_p=0.95,\n",
    "    ) \n",
    "    output = predictions[0][\"generated_text\"].split(\"</s>\\n<|assistant|>\\n\")[-1]\n",
    "    return output"
   ]
  },
  {
   "cell_type": "code",
   "execution_count": 6,
   "metadata": {},
   "outputs": [
    {
     "name": "stdout",
     "output_type": "stream",
     "text": [
      "device_name :  mps\n"
     ]
    }
   ],
   "source": [
    "device_name  = None\n",
    "if torch.backends.mps.is_available():\n",
    "    device_name = \"mps\"\n",
    "else:\n",
    "    device_name = \"cpu\"\n",
    "print(\"device_name : \",device_name)"
   ]
  },
  {
   "cell_type": "code",
   "execution_count": 7,
   "metadata": {},
   "outputs": [
    {
     "data": {
      "text/plain": [
       "'In the magic land where you are now, your density is likely close to that of air. However, since you are still in the ebook, the density could change at any time, depending on the physical conditions in the land.'"
      ]
     },
     "execution_count": 7,
     "metadata": {},
     "output_type": "execute_result"
    }
   ],
   "source": [
    "prompt = \"<context>ssThis ebook is for the use of anyone anywhere in the United States and most other parts of the world at no cost and with almost no restrictions. You may copy it, give it away or re-use it under the terms of the Project Gutenberg License. If you are not located in the U.S., you will have to check the laws of the country where you are located before using this eBook.s </context> <question>What is my density in this magic land? </question>\"\n",
    "pipe = load_text_model(device_name) \n",
    "output = generate_text(pipe, prompt)\n",
    "output"
   ]
  },
  {
   "cell_type": "code",
   "execution_count": null,
   "metadata": {},
   "outputs": [],
   "source": []
  },
  {
   "cell_type": "code",
   "execution_count": 13,
   "metadata": {},
   "outputs": [
    {
     "name": "stdout",
     "output_type": "stream",
     "text": [
      "ChatCompletionMessage(content=\"(Toto looks around, his eyes wide with curiosity as he takes a cautious step forward.) Ahh... now that's an interesting question you have there! You see, dear Tin Man (he tilts the book toward The Wizard of Oz), here in this enchanting land known to us all but not so much by name—this place called Kansas. We don’t exactly measure our density like we do back home with science and numbers; instead, it's more about what makes each one unique (he gives a gentle nudge to The Tin Man). \\n\\nYou might find yourself surrounded by the most peculiar characters as diverse in nature and spirit! They are just folks trying their best at life—much like myself. Your own 'density', if you'll indulge me, would be quite high (Toto chuckles lightly) because each person here contributes something special to our community tapestry; rich with stories of bravery and perseverance!\\n\\nAnd remember this: no matter how different or similar we all may seem on the outside, inside us is a heart that beats for friendship (he places his hand warmly over The Tin Man's). So when you ask about 'density,' think not of numbers but rather... connections.\", refusal=None, role='assistant', audio=None, function_call=None, tool_calls=None)\n",
      "<class 'openai.types.chat.chat_completion_message.ChatCompletionMessage'>\n"
     ]
    }
   ],
   "source": [
    "# Example: reuse your existing OpenAI setup\n",
    "from openai import OpenAI\n",
    "\n",
    "# Point to the local server\n",
    "client = OpenAI(base_url=\"http://localhost:1234/v1\", api_key=\"lm-studio\")\n",
    "\n",
    "completion = client.chat.completions.create(\n",
    "  model=\"TheBloke/TinyLlama-1.1B-Chat-v1.0-GGUF\",\n",
    "  messages=[\n",
    "    {\"role\": \"system\", \"content\": system_prompt},\n",
    "    {\"role\": \"user\", \"content\": prompt}\n",
    "  ],\n",
    "  temperature=0.7,\n",
    ")\n",
    "\n",
    "print(completion.choices[0].message)\n"
   ]
  },
  {
   "cell_type": "code",
   "execution_count": 15,
   "metadata": {},
   "outputs": [
    {
     "name": "stdout",
     "output_type": "stream",
     "text": [
      "(Toto looks around, his eyes wide with curiosity as he takes a cautious step forward.) Ahh... now that's an interesting question you have there! You see, dear Tin Man (he tilts the book toward The Wizard of Oz), here in this enchanting land known to us all but not so much by name—this place called Kansas. We don’t exactly measure our density like we do back home with science and numbers; instead, it's more about what makes each one unique (he gives a gentle nudge to The Tin Man). \n",
      "\n",
      "You might find yourself surrounded by the most peculiar characters as diverse in nature and spirit! They are just folks trying their best at life—much like myself. Your own 'density', if you'll indulge me, would be quite high (Toto chuckles lightly) because each person here contributes something special to our community tapestry; rich with stories of bravery and perseverance!\n",
      "\n",
      "And remember this: no matter how different or similar we all may seem on the outside, inside us is a heart that beats for friendship (he places his hand warmly over The Tin Man's). So when you ask about 'density,' think not of numbers but rather... connections.\n"
     ]
    }
   ],
   "source": [
    "result_txt=completion.choices[0].message\n",
    "print(result_txt.content)"
   ]
  },
  {
   "cell_type": "code",
   "execution_count": null,
   "metadata": {},
   "outputs": [],
   "source": []
  }
 ],
 "metadata": {
  "kernelspec": {
   "display_name": "ths",
   "language": "python",
   "name": "python3"
  },
  "language_info": {
   "codemirror_mode": {
    "name": "ipython",
    "version": 3
   },
   "file_extension": ".py",
   "mimetype": "text/x-python",
   "name": "python",
   "nbconvert_exporter": "python",
   "pygments_lexer": "ipython3",
   "version": "3.12.0"
  }
 },
 "nbformat": 4,
 "nbformat_minor": 2
}
