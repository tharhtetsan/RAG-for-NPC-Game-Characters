{
 "cells": [
  {
   "cell_type": "code",
   "execution_count": 11,
   "metadata": {},
   "outputs": [],
   "source": [
    "import os\n",
    "from langchain_community.document_loaders import TextLoader\n",
    "from langchain_community.vectorstores import FAISS\n",
    "from langchain_openai import OpenAIEmbeddings\n",
    "from langchain_text_splitters import CharacterTextSplitter"
   ]
  },
  {
   "cell_type": "code",
   "execution_count": 12,
   "metadata": {},
   "outputs": [
    {
     "name": "stdout",
     "output_type": "stream",
     "text": [
      "<class 'list'>\n"
     ]
    }
   ],
   "source": [
    "dos_path = r\"/Users/tharhtet/Documents/test3/wizard_of_oz/pg54.txt\"\n",
    "loader = TextLoader(dos_path)\n",
    "documents = loader.load()\n",
    "print(type(documents))"
   ]
  },
  {
   "cell_type": "code",
   "execution_count": 13,
   "metadata": {},
   "outputs": [
    {
     "name": "stderr",
     "output_type": "stream",
     "text": [
      "Created a chunk of size 1184, which is longer than the specified 1000\n",
      "Created a chunk of size 1045, which is longer than the specified 1000\n",
      "Created a chunk of size 1132, which is longer than the specified 1000\n",
      "Created a chunk of size 1674, which is longer than the specified 1000\n"
     ]
    }
   ],
   "source": [
    "text_splitter = CharacterTextSplitter(chunk_size = 1000 , chunk_overlap=0)\n",
    "docs = text_splitter.split_documents(documents)"
   ]
  },
  {
   "cell_type": "code",
   "execution_count": 14,
   "metadata": {},
   "outputs": [
    {
     "data": {
      "text/plain": [
       "298"
      ]
     },
     "execution_count": 14,
     "metadata": {},
     "output_type": "execute_result"
    }
   ],
   "source": [
    "len(docs)"
   ]
  },
  {
   "cell_type": "code",
   "execution_count": 15,
   "metadata": {},
   "outputs": [],
   "source": [
    "#openai_embeddings = OpenAIEmbeddings()\n",
    "#db = FAISS.from_documents(docs, openai_embeddings)"
   ]
  },
  {
   "cell_type": "code",
   "execution_count": 16,
   "metadata": {},
   "outputs": [
    {
     "name": "stderr",
     "output_type": "stream",
     "text": [
      "/opt/anaconda3/envs/ths/lib/python3.12/site-packages/transformers/tokenization_utils_base.py:1601: FutureWarning: `clean_up_tokenization_spaces` was not set. It will be set to `True` by default. This behavior will be depracted in transformers v4.45, and will be then set to `False` by default. For more details check this issue: https://github.com/huggingface/transformers/issues/31884\n",
      "  warnings.warn(\n"
     ]
    }
   ],
   "source": [
    "from langchain_community.embeddings import HuggingFaceBgeEmbeddings\n",
    "\n",
    "modelPath = \"sentence-transformers/all-MiniLM-l6-v2\"\n",
    "#modelPath = \"sentence-transformers/all-mpnet-base-v2\"\n",
    "\n",
    "model_kwargs = {\"device\" : 'mps'}\n",
    "encoding_kwargs = {\"normalize_embeddings\": False}\n",
    "embeddings = HuggingFaceBgeEmbeddings(\n",
    "    model_name = modelPath,\n",
    "    model_kwargs = model_kwargs,\n",
    "    encode_kwargs=encoding_kwargs\n",
    ")"
   ]
  },
  {
   "cell_type": "code",
   "execution_count": 17,
   "metadata": {},
   "outputs": [],
   "source": [
    "db = FAISS.from_documents(docs, embeddings)"
   ]
  },
  {
   "cell_type": "code",
   "execution_count": 18,
   "metadata": {},
   "outputs": [],
   "source": [
    "question = \"Where are you from, Dorothy Gale?\"\n",
    "retriever = db.as_retriever()\n",
    "new_docs =retriever.invoke(question)"
   ]
  },
  {
   "cell_type": "code",
   "execution_count": 19,
   "metadata": {},
   "outputs": [
    {
     "name": "stdout",
     "output_type": "stream",
     "text": [
      "“Oh!” said Jack. Then, after a pause, he asked: “Did you say a Tin\n",
      "Woodman rules the Winkies?”\n",
      "\n",
      "“Yes; he was one of those who helped Dorothy to destroy the Wicked\n",
      "Witch of the West, and the Winkies were so grateful that they invited\n",
      "him to become their ruler,—just as the people of the Emerald City\n",
      "invited the Scarecrow to rule them.”\n",
      "\n",
      "“Dear me!” said Jack. “I’m getting confused with all this history. Who\n",
      "is the Scarecrow?”\n",
      "\n",
      "“Another friend of Dorothy’s,” replied Tip.\n",
      "\n",
      "“And who is Dorothy?”\n",
      "\n",
      "“She was a girl that came here from Kansas, a place in the big, outside\n",
      "World. She got blown to the Land of Oz by a cyclone, and while she was\n",
      "here the Scarecrow and the Tin Woodman accompanied her on her travels.”\n",
      "\n",
      "“And where is she now?” inquired the Pumpkinhead.\n",
      "\n",
      "“Glinda the Good, who rules the Quadlings, sent her home again,” said\n",
      "the boy.\n",
      "\n",
      "“Oh. And what became of the Scarecrow?”\n",
      "\n",
      "“I told you. He rules the Emerald City,” answered Tip.\n",
      "######\n",
      "“Being Thoroughly Educated, and knowing what is required of a cultured\n",
      "gentleman, at this juncture I stood upright and, placing my hand upon\n",
      "my bosom, made a very polite bow. My action, being unexpected, must\n",
      "have startled them, for one of the little girls perched upon the\n",
      "window-sill gave a scream and fell backward out the window, drawing her\n",
      "companion with her as she disappeared.\n",
      "\n",
      "“The Professor uttered a cry of horror and rushed away through the door\n",
      "to see if the poor children were injured by the fall. The scholars\n",
      "followed after him in a wild mob, and I was left alone in the\n",
      "school-room, still in a Highly-Magnified state and free to do as I\n",
      "pleased.\n",
      "\n",
      "“It immediately occurred to me that this was a good opportunity to\n",
      "escape. I was proud of my great size, and realized that now I could\n",
      "safely travel anywhere in the world, while my superior culture would\n",
      "make me a fit associate for the most learned person I might chance to\n",
      "meet.\n",
      "######\n",
      "After the publication of “The Wonderful Wizard of OZ” I began to\n",
      "receive letters from children, telling me of their pleasure in reading\n",
      "the story and asking me to “write something more” about the Scarecrow\n",
      "and the Tin Woodman. At first I considered these little letters, frank\n",
      "and earnest though they were, in the light of pretty compliments; but\n",
      "the letters continued to come during succeeding months, and even years.\n",
      "\n",
      "Finally I promised one little girl, who made a long journey to see me\n",
      "and prefer her request,—and she is a “Dorothy,” by the way—that when a\n",
      "thousand little girls had written me a thousand little letters asking\n",
      "for the Scarecrow and the Tin Woodman I would write the book, Either\n",
      "little Dorothy was a fairy in disguise, and waved her magic wand, or\n",
      "the success of the stage production of “The Wizard of OZ” made new\n",
      "friends for the story, For the thousand letters reached their\n",
      "destination long since—and many more followed them.\n",
      "######\n",
      "“Well, we did,” retorted the Scarecrow, “and he was a very great\n",
      "Wizard, I assure you. It is true he was guilty of some slight\n",
      "impostures, but unless he was a great Wizard how—let me ask—could he\n",
      "have hidden this girl Ozma so securely that no one can find her?”\n",
      "\n",
      "“I—I give it up!” replied the Woggle-Bug, meekly.\n",
      "\n",
      "“That is the most sensible speech you’ve made,” said the Tin Woodman.\n",
      "\n",
      "“I must really make another effort to discover where this girl is\n",
      "hidden,” resumed the Sorceress, thoughtfully. “I have in my library a\n",
      "book in which is inscribed every action of the Wizard while he was in\n",
      "our land of Oz—or, at least, every action that could be observed by my\n",
      "spies. This book I will read carefully tonight, and try to single out\n",
      "the acts that may guide us in discovering the lost Ozma. In the\n",
      "meantime, pray amuse yourselves in my palace and command my servants as\n",
      "if they were your own. I will grant you another audience tomorrow.”\n",
      "\n",
      "[Illustration: image271]\n",
      "######\n"
     ]
    }
   ],
   "source": [
    "for cur_ in new_docs:\n",
    "    print(cur_.page_content)\n",
    "    print(\"######\")"
   ]
  },
  {
   "cell_type": "code",
   "execution_count": 21,
   "metadata": {},
   "outputs": [],
   "source": [
    "save_path = \"/Users/tharhtet/Documents/github/RAG-for-NPC-Game-Characters/corpus/wizard_of_oz/faiss_index\"\n",
    "db.save_local(save_path)"
   ]
  },
  {
   "cell_type": "code",
   "execution_count": null,
   "metadata": {},
   "outputs": [],
   "source": []
  },
  {
   "cell_type": "code",
   "execution_count": null,
   "metadata": {},
   "outputs": [],
   "source": []
  },
  {
   "cell_type": "code",
   "execution_count": null,
   "metadata": {},
   "outputs": [],
   "source": []
  }
 ],
 "metadata": {
  "kernelspec": {
   "display_name": "ths",
   "language": "python",
   "name": "python3"
  },
  "language_info": {
   "codemirror_mode": {
    "name": "ipython",
    "version": 3
   },
   "file_extension": ".py",
   "mimetype": "text/x-python",
   "name": "python",
   "nbconvert_exporter": "python",
   "pygments_lexer": "ipython3",
   "version": "3.12.0"
  }
 },
 "nbformat": 4,
 "nbformat_minor": 2
}
